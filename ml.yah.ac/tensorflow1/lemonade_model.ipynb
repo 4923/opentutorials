{
 "cells": [
  {
   "cell_type": "markdown",
   "metadata": {},
   "source": [
    "### Loss 란?: 학습이 얼마나 진행되었는지 알리는 지표\n",
    "\n",
    "* fit 함수의 동작\n",
    "    * mode.fit(독립, 종속, epochs=10)\n",
    "    * 학습을 진행하면 좌측부터\n",
    "        1. 몇 번째 학습인지 (1/10 - 10/10)\n",
    "        2. 시간이 얼마나 소모되었는지 (os lms/step)\n",
    "        3. **loss: 학습이 얼마나 진행되었는지** (loss: 2548.6941 ... ...)\n",
    "        \n",
    "* Loss란?\n",
    "$$\\frac {(predict-result)^2}{epochs}$$\n",
    "따라서 0에 가까울 수록 좋다. loss가 원하는 수준으로 떨어질 때 까지 반복해서 학습시키자."
   ]
  },
  {
   "cell_type": "markdown",
   "metadata": {},
   "source": [
    "### 레모네이드 판매예측 모델 만들기\n",
    "\n",
    "* github csv url: https://raw.githubusercontent.com/blackdew/tensorflow1/master/csv/lemonade.csv"
   ]
  },
  {
   "cell_type": "code",
   "execution_count": 11,
   "metadata": {},
   "outputs": [],
   "source": [
    "# 라이브러리 사용\n",
    "\n",
    "import pandas as pd\n",
    "import tensorflow as tf\n"
   ]
  },
  {
   "cell_type": "code",
   "execution_count": 24,
   "metadata": {},
   "outputs": [
    {
     "name": "stdout",
     "output_type": "stream",
     "text": [
      "(6, 2)\n",
      "Index(['온도', '판매량'], dtype='object')\n"
     ]
    },
    {
     "data": {
      "text/html": [
       "<div>\n",
       "<style scoped>\n",
       "    .dataframe tbody tr th:only-of-type {\n",
       "        vertical-align: middle;\n",
       "    }\n",
       "\n",
       "    .dataframe tbody tr th {\n",
       "        vertical-align: top;\n",
       "    }\n",
       "\n",
       "    .dataframe thead th {\n",
       "        text-align: right;\n",
       "    }\n",
       "</style>\n",
       "<table border=\"1\" class=\"dataframe\">\n",
       "  <thead>\n",
       "    <tr style=\"text-align: right;\">\n",
       "      <th></th>\n",
       "      <th>온도</th>\n",
       "      <th>판매량</th>\n",
       "    </tr>\n",
       "  </thead>\n",
       "  <tbody>\n",
       "    <tr>\n",
       "      <th>0</th>\n",
       "      <td>20</td>\n",
       "      <td>40</td>\n",
       "    </tr>\n",
       "    <tr>\n",
       "      <th>1</th>\n",
       "      <td>21</td>\n",
       "      <td>42</td>\n",
       "    </tr>\n",
       "    <tr>\n",
       "      <th>2</th>\n",
       "      <td>22</td>\n",
       "      <td>44</td>\n",
       "    </tr>\n",
       "    <tr>\n",
       "      <th>3</th>\n",
       "      <td>23</td>\n",
       "      <td>46</td>\n",
       "    </tr>\n",
       "    <tr>\n",
       "      <th>4</th>\n",
       "      <td>24</td>\n",
       "      <td>48</td>\n",
       "    </tr>\n",
       "  </tbody>\n",
       "</table>\n",
       "</div>"
      ],
      "text/plain": [
       "   온도  판매량\n",
       "0  20   40\n",
       "1  21   42\n",
       "2  22   44\n",
       "3  23   46\n",
       "4  24   48"
      ]
     },
     "execution_count": 24,
     "metadata": {},
     "output_type": "execute_result"
    }
   ],
   "source": [
    "# 데이터 준비\n",
    "\n",
    "파일경로 = 'https://raw.githubusercontent.com/blackdew/tensorflow1/master/csv/lemonade.csv'\n",
    "레모네이드 = pd.read_csv(파일경로)\n",
    "\n",
    "print(레모네이드.shape)\n",
    "## (6, 2)\n",
    "\n",
    "print(레모네이드.columns)\n",
    "## Index(['온도', '판매량'], dtype='object')\n",
    "\n",
    "레모네이드.head()  # print 필요 X (써도 상관은 없는데 안쓰는편이 보기 좋음)"
   ]
  },
  {
   "cell_type": "code",
   "execution_count": 18,
   "metadata": {},
   "outputs": [
    {
     "name": "stdout",
     "output_type": "stream",
     "text": [
      "(6, 1) (6, 1)\n"
     ]
    }
   ],
   "source": [
    "# 종속, 독립 변수 분리\n",
    "\n",
    "독립 = 레모네이드[['온도']]\n",
    "종속 = 레모네이드[['판매량']]\n",
    "\n",
    "# 확인\n",
    "print(독립.shape, 종속.shape)"
   ]
  },
  {
   "cell_type": "code",
   "execution_count": 25,
   "metadata": {},
   "outputs": [],
   "source": [
    "# 모델 생성\n",
    "# 뭔지 모르겠지만 그냥 따라 쳐 보기\n",
    "\n",
    "X = tf.keras.layers.Input(shape=[1])  # 독립변수 개수가 하나였기 때문에\n",
    "Y = tf.keras.layers.Dense(1)(X)  # 종속변수 이하생략\n",
    "model = tf.keras.models.Model(X, Y)\n",
    "model.compile(loss='mse')  # 괄호 안은 모델이 학습할 방법을 설명 (뒤에서 더 설명할 것임)"
   ]
  },
  {
   "cell_type": "code",
   "execution_count": 30,
   "metadata": {},
   "outputs": [
    {
     "data": {
      "text/plain": [
       "'\\nEpoch 10000/10000\\n6/6 [==============================] - 0s 831us/sample - loss: 5.3270e-04\\n'"
      ]
     },
     "execution_count": 30,
     "metadata": {},
     "output_type": "execute_result"
    }
   ],
   "source": [
    "# 모델 학습\n",
    "model.fit(독립, 종속, epochs=10)\n",
    "\n",
    "# 첫 10번하니까 loss가 6천쯤 됨\n",
    "# 한 삼천번하니까 0.1 이하로 내려갔고 \n",
    "# CPU가 불타고있다 큰일났다\n",
    "\n",
    "'''\n",
    "Epoch 10000/10000\n",
    "6/6 [==============================] - 0s 831us/sample - loss: 5.3270e-04\n",
    "'''\n",
    "\n",
    "# 출력을 끄고 학습하는 옵션: verbose=0"
   ]
  },
  {
   "cell_type": "code",
   "execution_count": 31,
   "metadata": {},
   "outputs": [
    {
     "data": {
      "text/plain": [
       "array([[40.040638],\n",
       "       [42.02965 ],\n",
       "       [44.01866 ],\n",
       "       [46.007675],\n",
       "       [47.99669 ],\n",
       "       [49.985703]], dtype=float32)"
      ]
     },
     "execution_count": 31,
     "metadata": {},
     "output_type": "execute_result"
    }
   ],
   "source": [
    "# 모델 이용\n",
    "model.predict(독립)"
   ]
  },
  {
   "cell_type": "code",
   "execution_count": 33,
   "metadata": {},
   "outputs": [
    {
     "data": {
      "text/plain": [
       "array([[30.095573]], dtype=float32)"
      ]
     },
     "execution_count": 33,
     "metadata": {},
     "output_type": "execute_result"
    }
   ],
   "source": [
    "# 내일이 15도라면?\n",
    "\n",
    "model.predict([[15]])"
   ]
  }
 ],
 "metadata": {
  "kernelspec": {
   "display_name": "Python 3",
   "language": "python",
   "name": "python3"
  },
  "language_info": {
   "codemirror_mode": {
    "name": "ipython",
    "version": 3
   },
   "file_extension": ".py",
   "mimetype": "text/x-python",
   "name": "python",
   "nbconvert_exporter": "python",
   "pygments_lexer": "ipython3",
   "version": "3.6.12"
  }
 },
 "nbformat": 4,
 "nbformat_minor": 4
}
